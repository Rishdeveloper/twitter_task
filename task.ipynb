{
 "cells": [
  {
   "cell_type": "code",
   "execution_count": 1,
   "id": "4b094682-6151-41c8-8b73-2240dd821cc0",
   "metadata": {},
   "outputs": [],
   "source": [
    "import  pandas as pd\n"
   ]
  },
  {
   "cell_type": "code",
   "execution_count": 2,
   "id": "62d3f8d5-befb-4fcc-b4d6-a100cfc80d2f",
   "metadata": {},
   "outputs": [],
   "source": [
    "file_path = r'D:\\correct_twitter_201904.tsv'"
   ]
  },
  {
   "cell_type": "code",
   "execution_count": 3,
   "id": "f2e2bc69-abad-4f20-b2d6-cfc5d62a95a3",
   "metadata": {},
   "outputs": [],
   "source": [
    "\n",
    "df = pd.read_csv(file_path, sep='\\t')"
   ]
  },
  {
   "cell_type": "code",
   "execution_count": 4,
   "id": "410640ac-9be6-4a1b-a0ef-38bd1ae1794d",
   "metadata": {},
   "outputs": [
    {
     "name": "stdout",
     "output_type": "stream",
     "text": [
      "                        id           event                               ts1  \\\n",
      "0      1131594960443199488  britney_201904  2022-02-28 09:34:44.627023-05:00   \n",
      "1      1131594976750653440  britney_201904  2022-02-28 09:34:44.626921-05:00   \n",
      "2      1131589737955942405  britney_201904  2022-02-28 09:34:44.634058-05:00   \n",
      "3      1131594909469892610  britney_201904  2022-02-28 09:34:44.627125-05:00   \n",
      "4      1131594812694511617  britney_201904  2022-02-28 09:34:44.627227-05:00   \n",
      "...                    ...             ...                               ...   \n",
      "88032  1122977274352082944  britney_201904  2022-02-28 09:47:43.066500-05:00   \n",
      "88033  1122977257969127429  britney_201904  2022-02-28 09:47:43.066605-05:00   \n",
      "88034  1122977009347518466  britney_201904  2022-02-28 09:47:43.066708-05:00   \n",
      "88035  1122976878812442626  britney_201904  2022-02-28 09:47:43.066810-05:00   \n",
      "88036  1122976855647240203  britney_201904  2022-02-28 09:47:43.066921-05:00   \n",
      "\n",
      "                                    ts2  from_stream  directly_from_stream  \\\n",
      "0      2022-02-28 09:34:44.627023-05:00         True                  True   \n",
      "1      2022-02-28 09:34:44.626921-05:00         True                  True   \n",
      "2      2022-02-28 09:34:44.634058-05:00         True                  True   \n",
      "3      2022-02-28 09:34:44.627125-05:00         True                  True   \n",
      "4      2022-02-28 09:34:44.627227-05:00         True                  True   \n",
      "...                                 ...          ...                   ...   \n",
      "88032  2022-02-28 09:47:43.066500-05:00         True                  True   \n",
      "88033  2022-02-28 09:47:43.066605-05:00         True                  True   \n",
      "88034  2022-02-28 09:47:43.066708-05:00         True                  True   \n",
      "88035  2022-02-28 09:47:43.066810-05:00         True                  True   \n",
      "88036  2022-02-28 09:47:43.066921-05:00         True                  True   \n",
      "\n",
      "       from_search  directly_from_search  from_quote_search  \\\n",
      "0            False                 False              False   \n",
      "1            False                 False              False   \n",
      "2            False                 False              False   \n",
      "3            False                 False              False   \n",
      "4            False                 False              False   \n",
      "...            ...                   ...                ...   \n",
      "88032        False                 False              False   \n",
      "88033        False                 False              False   \n",
      "88034        False                 False              False   \n",
      "88035        False                 False              False   \n",
      "88036        False                 False              False   \n",
      "\n",
      "       directly_from_quote_search  ...     retweeted  retweeted_author_id  \\\n",
      "0                           False  ...  1.130918e+18         3.042894e+09   \n",
      "1                           False  ...           NaN                  NaN   \n",
      "2                           False  ...           NaN                  NaN   \n",
      "3                           False  ...  1.130918e+18         3.042894e+09   \n",
      "4                           False  ...  1.130918e+18         3.042894e+09   \n",
      "...                           ...  ...           ...                  ...   \n",
      "88032                       False  ...  1.122976e+18         2.934939e+09   \n",
      "88033                       False  ...  1.118943e+18         6.137028e+08   \n",
      "88034                       False  ...           NaN                  NaN   \n",
      "88035                       False  ...  1.122898e+18         8.468642e+17   \n",
      "88036                       False  ...           NaN                  NaN   \n",
      "\n",
      "       retweeted_handle  retweeted_follower_count mentioned_author_ids  \\\n",
      "0              Iesbwian                   22760.0                  NaN   \n",
      "1                   NaN                       NaN                  NaN   \n",
      "2                   NaN                       NaN                  NaN   \n",
      "3              Iesbwian                   22760.0                  NaN   \n",
      "4              Iesbwian                   22760.0                  NaN   \n",
      "...                 ...                       ...                  ...   \n",
      "88032   STORMISKELLYBAG                   13773.0                  NaN   \n",
      "88033       keanuorange                    1422.0                  NaN   \n",
      "88034               NaN                       NaN                  NaN   \n",
      "88035      TheBlastNews                   11533.0                  NaN   \n",
      "88036               NaN                       NaN                  NaN   \n",
      "\n",
      "      mentioned_handles  hashtags  \\\n",
      "0                   NaN       NaN   \n",
      "1                   NaN       NaN   \n",
      "2                   NaN       NaN   \n",
      "3                   NaN       NaN   \n",
      "4                   NaN       NaN   \n",
      "...                 ...       ...   \n",
      "88032               NaN       NaN   \n",
      "88033               NaN       NaN   \n",
      "88034               NaN       NaN   \n",
      "88035               NaN       NaN   \n",
      "88036               NaN       NaN   \n",
      "\n",
      "                                                    urls media_keys  place_id  \n",
      "0                                                    NaN        NaN       NaN  \n",
      "1                                                    NaN        NaN       NaN  \n",
      "2                                                    NaN        NaN       NaN  \n",
      "3                                                    NaN        NaN       NaN  \n",
      "4                                                    NaN        NaN       NaN  \n",
      "...                                                  ...        ...       ...  \n",
      "88032                                                NaN        NaN       NaN  \n",
      "88033                                                NaN        NaN       NaN  \n",
      "88034                                                NaN        NaN       NaN  \n",
      "88035                                                NaN        NaN       NaN  \n",
      "88036  [{'end': 65, 'url': 'https://t.co/DcqjuqMJDK',...        NaN       NaN  \n",
      "\n",
      "[88037 rows x 46 columns]\n"
     ]
    }
   ],
   "source": [
    "print(df)"
   ]
  },
  {
   "cell_type": "code",
   "execution_count": 5,
   "id": "a43d8ae9-cab9-4c00-9754-e2fe6e5d4018",
   "metadata": {},
   "outputs": [
    {
     "data": {
      "text/html": [
       "<div>\n",
       "<style scoped>\n",
       "    .dataframe tbody tr th:only-of-type {\n",
       "        vertical-align: middle;\n",
       "    }\n",
       "\n",
       "    .dataframe tbody tr th {\n",
       "        vertical-align: top;\n",
       "    }\n",
       "\n",
       "    .dataframe thead th {\n",
       "        text-align: right;\n",
       "    }\n",
       "</style>\n",
       "<table border=\"1\" class=\"dataframe\">\n",
       "  <thead>\n",
       "    <tr style=\"text-align: right;\">\n",
       "      <th></th>\n",
       "      <th>id</th>\n",
       "      <th>event</th>\n",
       "      <th>ts1</th>\n",
       "      <th>ts2</th>\n",
       "      <th>from_stream</th>\n",
       "      <th>directly_from_stream</th>\n",
       "      <th>from_search</th>\n",
       "      <th>directly_from_search</th>\n",
       "      <th>from_quote_search</th>\n",
       "      <th>directly_from_quote_search</th>\n",
       "      <th>...</th>\n",
       "      <th>retweeted</th>\n",
       "      <th>retweeted_author_id</th>\n",
       "      <th>retweeted_handle</th>\n",
       "      <th>retweeted_follower_count</th>\n",
       "      <th>mentioned_author_ids</th>\n",
       "      <th>mentioned_handles</th>\n",
       "      <th>hashtags</th>\n",
       "      <th>urls</th>\n",
       "      <th>media_keys</th>\n",
       "      <th>place_id</th>\n",
       "    </tr>\n",
       "  </thead>\n",
       "  <tbody>\n",
       "    <tr>\n",
       "      <th>0</th>\n",
       "      <td>1131594960443199488</td>\n",
       "      <td>britney_201904</td>\n",
       "      <td>2022-02-28 09:34:44.627023-05:00</td>\n",
       "      <td>2022-02-28 09:34:44.627023-05:00</td>\n",
       "      <td>True</td>\n",
       "      <td>True</td>\n",
       "      <td>False</td>\n",
       "      <td>False</td>\n",
       "      <td>False</td>\n",
       "      <td>False</td>\n",
       "      <td>...</td>\n",
       "      <td>1.130918e+18</td>\n",
       "      <td>3.042894e+09</td>\n",
       "      <td>Iesbwian</td>\n",
       "      <td>22760.0</td>\n",
       "      <td>NaN</td>\n",
       "      <td>NaN</td>\n",
       "      <td>NaN</td>\n",
       "      <td>NaN</td>\n",
       "      <td>NaN</td>\n",
       "      <td>NaN</td>\n",
       "    </tr>\n",
       "    <tr>\n",
       "      <th>1</th>\n",
       "      <td>1131594976750653440</td>\n",
       "      <td>britney_201904</td>\n",
       "      <td>2022-02-28 09:34:44.626921-05:00</td>\n",
       "      <td>2022-02-28 09:34:44.626921-05:00</td>\n",
       "      <td>True</td>\n",
       "      <td>True</td>\n",
       "      <td>False</td>\n",
       "      <td>False</td>\n",
       "      <td>False</td>\n",
       "      <td>False</td>\n",
       "      <td>...</td>\n",
       "      <td>NaN</td>\n",
       "      <td>NaN</td>\n",
       "      <td>NaN</td>\n",
       "      <td>NaN</td>\n",
       "      <td>NaN</td>\n",
       "      <td>NaN</td>\n",
       "      <td>NaN</td>\n",
       "      <td>NaN</td>\n",
       "      <td>NaN</td>\n",
       "      <td>NaN</td>\n",
       "    </tr>\n",
       "    <tr>\n",
       "      <th>2</th>\n",
       "      <td>1131589737955942405</td>\n",
       "      <td>britney_201904</td>\n",
       "      <td>2022-02-28 09:34:44.634058-05:00</td>\n",
       "      <td>2022-02-28 09:34:44.634058-05:00</td>\n",
       "      <td>True</td>\n",
       "      <td>True</td>\n",
       "      <td>False</td>\n",
       "      <td>False</td>\n",
       "      <td>False</td>\n",
       "      <td>False</td>\n",
       "      <td>...</td>\n",
       "      <td>NaN</td>\n",
       "      <td>NaN</td>\n",
       "      <td>NaN</td>\n",
       "      <td>NaN</td>\n",
       "      <td>NaN</td>\n",
       "      <td>NaN</td>\n",
       "      <td>NaN</td>\n",
       "      <td>NaN</td>\n",
       "      <td>NaN</td>\n",
       "      <td>NaN</td>\n",
       "    </tr>\n",
       "    <tr>\n",
       "      <th>3</th>\n",
       "      <td>1131594909469892610</td>\n",
       "      <td>britney_201904</td>\n",
       "      <td>2022-02-28 09:34:44.627125-05:00</td>\n",
       "      <td>2022-02-28 09:34:44.627125-05:00</td>\n",
       "      <td>True</td>\n",
       "      <td>True</td>\n",
       "      <td>False</td>\n",
       "      <td>False</td>\n",
       "      <td>False</td>\n",
       "      <td>False</td>\n",
       "      <td>...</td>\n",
       "      <td>1.130918e+18</td>\n",
       "      <td>3.042894e+09</td>\n",
       "      <td>Iesbwian</td>\n",
       "      <td>22760.0</td>\n",
       "      <td>NaN</td>\n",
       "      <td>NaN</td>\n",
       "      <td>NaN</td>\n",
       "      <td>NaN</td>\n",
       "      <td>NaN</td>\n",
       "      <td>NaN</td>\n",
       "    </tr>\n",
       "    <tr>\n",
       "      <th>4</th>\n",
       "      <td>1131594812694511617</td>\n",
       "      <td>britney_201904</td>\n",
       "      <td>2022-02-28 09:34:44.627227-05:00</td>\n",
       "      <td>2022-02-28 09:34:44.627227-05:00</td>\n",
       "      <td>True</td>\n",
       "      <td>True</td>\n",
       "      <td>False</td>\n",
       "      <td>False</td>\n",
       "      <td>False</td>\n",
       "      <td>False</td>\n",
       "      <td>...</td>\n",
       "      <td>1.130918e+18</td>\n",
       "      <td>3.042894e+09</td>\n",
       "      <td>Iesbwian</td>\n",
       "      <td>22760.0</td>\n",
       "      <td>NaN</td>\n",
       "      <td>NaN</td>\n",
       "      <td>NaN</td>\n",
       "      <td>NaN</td>\n",
       "      <td>NaN</td>\n",
       "      <td>NaN</td>\n",
       "    </tr>\n",
       "  </tbody>\n",
       "</table>\n",
       "<p>5 rows × 46 columns</p>\n",
       "</div>"
      ],
      "text/plain": [
       "                    id           event                               ts1  \\\n",
       "0  1131594960443199488  britney_201904  2022-02-28 09:34:44.627023-05:00   \n",
       "1  1131594976750653440  britney_201904  2022-02-28 09:34:44.626921-05:00   \n",
       "2  1131589737955942405  britney_201904  2022-02-28 09:34:44.634058-05:00   \n",
       "3  1131594909469892610  britney_201904  2022-02-28 09:34:44.627125-05:00   \n",
       "4  1131594812694511617  britney_201904  2022-02-28 09:34:44.627227-05:00   \n",
       "\n",
       "                                ts2  from_stream  directly_from_stream  \\\n",
       "0  2022-02-28 09:34:44.627023-05:00         True                  True   \n",
       "1  2022-02-28 09:34:44.626921-05:00         True                  True   \n",
       "2  2022-02-28 09:34:44.634058-05:00         True                  True   \n",
       "3  2022-02-28 09:34:44.627125-05:00         True                  True   \n",
       "4  2022-02-28 09:34:44.627227-05:00         True                  True   \n",
       "\n",
       "   from_search  directly_from_search  from_quote_search  \\\n",
       "0        False                 False              False   \n",
       "1        False                 False              False   \n",
       "2        False                 False              False   \n",
       "3        False                 False              False   \n",
       "4        False                 False              False   \n",
       "\n",
       "   directly_from_quote_search  ...     retweeted  retweeted_author_id  \\\n",
       "0                       False  ...  1.130918e+18         3.042894e+09   \n",
       "1                       False  ...           NaN                  NaN   \n",
       "2                       False  ...           NaN                  NaN   \n",
       "3                       False  ...  1.130918e+18         3.042894e+09   \n",
       "4                       False  ...  1.130918e+18         3.042894e+09   \n",
       "\n",
       "   retweeted_handle  retweeted_follower_count mentioned_author_ids  \\\n",
       "0          Iesbwian                   22760.0                  NaN   \n",
       "1               NaN                       NaN                  NaN   \n",
       "2               NaN                       NaN                  NaN   \n",
       "3          Iesbwian                   22760.0                  NaN   \n",
       "4          Iesbwian                   22760.0                  NaN   \n",
       "\n",
       "  mentioned_handles  hashtags urls media_keys  place_id  \n",
       "0               NaN       NaN  NaN        NaN       NaN  \n",
       "1               NaN       NaN  NaN        NaN       NaN  \n",
       "2               NaN       NaN  NaN        NaN       NaN  \n",
       "3               NaN       NaN  NaN        NaN       NaN  \n",
       "4               NaN       NaN  NaN        NaN       NaN  \n",
       "\n",
       "[5 rows x 46 columns]"
      ]
     },
     "execution_count": 5,
     "metadata": {},
     "output_type": "execute_result"
    }
   ],
   "source": [
    "df.head()\n"
   ]
  },
  {
   "cell_type": "code",
   "execution_count": 6,
   "id": "16eb0d24-8de3-4a4e-9a13-e8ebb0984445",
   "metadata": {},
   "outputs": [],
   "source": [
    "df.columns = df.columns.str.strip()"
   ]
  },
  {
   "cell_type": "code",
   "execution_count": 7,
   "id": "7b613df8-ceaf-490f-a4cf-724910045f88",
   "metadata": {},
   "outputs": [],
   "source": [
    "df['ts1'] = pd.to_datetime(df['ts1'])\n",
    "df['ts2'] = pd.to_datetime(df['ts2'])\n"
   ]
  },
  {
   "cell_type": "code",
   "execution_count": 17,
   "id": "b6eb3aa8-737d-44e7-acee-f9df60babf95",
   "metadata": {},
   "outputs": [],
   "source": [
    "df.to_csv('retweet_data.csv') "
   ]
  },
  {
   "cell_type": "code",
   "execution_count": 18,
   "id": "4f718df0-7b97-4540-9634-7764f6752fcc",
   "metadata": {},
   "outputs": [
    {
     "name": "stdout",
     "output_type": "stream",
     "text": [
      "C:\\Users\\v-riupadhyay\n"
     ]
    }
   ],
   "source": [
    "import os\n",
    "print(os.getcwd())"
   ]
  },
  {
   "cell_type": "code",
   "execution_count": 10,
   "id": "d6d04225-275d-4db1-aea5-cc0f7e908ae0",
   "metadata": {},
   "outputs": [
    {
     "name": "stdout",
     "output_type": "stream",
     "text": [
      "ts1\n",
      "2022-02-28    80393\n",
      "2022-01-04     7644\n",
      "Name: count, dtype: int64\n"
     ]
    }
   ],
   "source": [
    "#1. Tweets Per Day Containing a Term\n",
    "\n",
    "def tweets_per_day(df, term):\n",
    "    # Filter tweets containing the term in the event or hashtags\n",
    "    filtered_df = df[df['event'].str.contains(term, case=False, na=False) |\n",
    "                     df['hashtags'].apply(lambda x: any(term.lower() in tag.lower() for tag in x) if isinstance(x, list) else False)]\n",
    "    # Convert ts1 to date and count tweets per day\n",
    "    return filtered_df['ts1'].dt.date.value_counts()\n",
    "\n",
    "# Example usage:\n",
    "print(tweets_per_day(df, 'britney'))"
   ]
  },
  {
   "cell_type": "code",
   "execution_count": 11,
   "id": "3477b9f7-2f0d-4112-ba80-82edcfa013e2",
   "metadata": {},
   "outputs": [
    {
     "name": "stdout",
     "output_type": "stream",
     "text": [
      "2750\n"
     ]
    }
   ],
   "source": [
    "#2 How many unique users posted a tweet containing the term?\n",
    "\n",
    "def unique_users(df, term):\n",
    "    # Filter tweets containing the term\n",
    "    filtered_df = df[df['event'].str.contains(term, case=False, na=False) |\n",
    "                     df['hashtags'].apply(lambda x: any(term.lower() in tag.lower() for tag in x) if isinstance(x, list) else False)]\n",
    "    return filtered_df['retweeted_author_id'].nunique()\n",
    "\n",
    "# Example usage:\n",
    "print(unique_users(df, 'britney'))\n"
   ]
  },
  {
   "cell_type": "code",
   "execution_count": null,
   "id": "622a5b9e-ac76-465f-9c1d-2e4b23117732",
   "metadata": {},
   "outputs": [],
   "source": [
    "#3.How many likes did tweets containing the term get, on average?\n",
    "\n",
    "def avg_follower_count(df, term):\n",
    "    # Filter tweets containing the term\n",
    "    filtered_df = df[df['event'].str.contains(term, case=False, na=False) |\n",
    "                     df['hashtags'].apply(lambda x: any(term.lower() in tag.lower() for tag in x) if isinstance(x, list) else False)]\n",
    "    return filtered_df['retweeted_follower_count'].mean()\n",
    "\n",
    "# Example usage:\n",
    "print(avg_follower_count(retweet_df, 'britney'))\n"
   ]
  },
  {
   "cell_type": "code",
   "execution_count": 12,
   "id": "2fe90c28-4f1a-4e67-b21f-01799d607dc7",
   "metadata": {},
   "outputs": [
    {
     "name": "stdout",
     "output_type": "stream",
     "text": [
      "place_id\n",
      "3b77caf94bfc81fe    45\n",
      "1ef1183ed7056dc1    17\n",
      "01a9a39529b27f36    13\n",
      "1c69a67ad480e1b1    11\n",
      "68e019afec7d0ba5    11\n",
      "                    ..\n",
      "dce44ec49eb788f5     1\n",
      "ca8520ce19e71fd7     1\n",
      "b077585758242faa     1\n",
      "7d893ca2441b0c21     1\n",
      "19dd8d7a921df131     1\n",
      "Name: count, Length: 598, dtype: int64\n"
     ]
    }
   ],
   "source": [
    "#4.Where (in terms of place IDs) did the tweets come from?\n",
    "\n",
    "def place_ids(df, term):\n",
    "    # Filter tweets containing the term\n",
    "    filtered_df = df[df['event'].str.contains(term, case=False, na=False) |\n",
    "                     df['hashtags'].apply(lambda x: any(term.lower() in tag.lower() for tag in x) if isinstance(x, list) else False)]\n",
    "    return filtered_df['place_id'].value_counts()\n",
    "\n",
    "# Example usage:\n",
    "print(place_ids(df, 'britney'))\n"
   ]
  },
  {
   "cell_type": "code",
   "execution_count": 15,
   "id": "bd6400e6-9b85-4425-8562-9164f55495ef",
   "metadata": {},
   "outputs": [
    {
     "name": "stdout",
     "output_type": "stream",
     "text": [
      "ts1\n",
      "9     80393\n",
      "15     7644\n",
      "Name: count, dtype: int64\n"
     ]
    }
   ],
   "source": [
    "#5.What times of day were the tweets posted at? \n",
    "\n",
    "def times_of_day(df, term):\n",
    "    # Filter tweets containing the term\n",
    "    filtered_df = df[df['event'].str.contains(term, case=False, na=False) |\n",
    "                     df['hashtags'].apply(lambda x: any(term.lower() in tag.lower() for tag in x) if isinstance(x, list) else False)]\n",
    "    return filtered_df['ts1'].dt.hour.value_counts().sort_index()\n",
    "\n",
    "# Example usage:\n",
    "print(times_of_day(df, 'britney'))\n"
   ]
  },
  {
   "cell_type": "code",
   "execution_count": 16,
   "id": "f71efec6-b04f-4314-93cd-c9ed39163db7",
   "metadata": {},
   "outputs": [
    {
     "name": "stdout",
     "output_type": "stream",
     "text": [
      "16331010.0\n"
     ]
    }
   ],
   "source": [
    "#6.Which user posted the most tweets containing the term?\n",
    "\n",
    "def most_active_user(df, term):\n",
    "    # Filter tweets containing the term\n",
    "    filtered_df = df[df['event'].str.contains(term, case=False, na=False) |\n",
    "                     df['hashtags'].apply(lambda x: any(term.lower() in tag.lower() for tag in x) if isinstance(x, list) else False)]\n",
    "    return filtered_df['retweeted_author_id'].value_counts().idxmax()\n",
    "\n",
    "# Example usage:\n",
    "print(most_active_user(df, 'britney'))\n"
   ]
  },
  {
   "cell_type": "code",
   "execution_count": null,
   "id": "98ffb23d-9348-4816-aaed-dcde66f4b69b",
   "metadata": {},
   "outputs": [],
   "source": []
  },
  {
   "cell_type": "code",
   "execution_count": null,
   "id": "7ba2a4f0-22e0-449a-aa08-36f28fcfbbb9",
   "metadata": {},
   "outputs": [],
   "source": [
    "\n"
   ]
  },
  {
   "cell_type": "code",
   "execution_count": null,
   "id": "32aac105-9048-4a9c-a017-a75e7184dc0b",
   "metadata": {},
   "outputs": [],
   "source": []
  },
  {
   "cell_type": "code",
   "execution_count": null,
   "id": "f31a9439-51e6-46e9-bf1e-0b1389e591bf",
   "metadata": {},
   "outputs": [],
   "source": [
    "\n"
   ]
  },
  {
   "cell_type": "code",
   "execution_count": null,
   "id": "b5190511-2c1d-4fd6-ae9d-ee36d9f6b6c1",
   "metadata": {},
   "outputs": [],
   "source": []
  },
  {
   "cell_type": "code",
   "execution_count": null,
   "id": "4bc94d5b-756e-496a-aa94-cf2ddf6f2ada",
   "metadata": {},
   "outputs": [],
   "source": [
    "\n"
   ]
  },
  {
   "cell_type": "code",
   "execution_count": null,
   "id": "89eb022e-c157-4f96-9439-ae264a6f4e0c",
   "metadata": {},
   "outputs": [],
   "source": []
  },
  {
   "cell_type": "code",
   "execution_count": null,
   "id": "ce32c43b-1a2a-4812-b165-de03fde2f968",
   "metadata": {},
   "outputs": [],
   "source": [
    "\n"
   ]
  },
  {
   "cell_type": "code",
   "execution_count": null,
   "id": "cfdb5372-a110-4585-afcc-32be3fee1dc9",
   "metadata": {},
   "outputs": [],
   "source": []
  },
  {
   "cell_type": "code",
   "execution_count": null,
   "id": "af27354a-ab5a-4aaf-a9d6-b25dd5e76bd1",
   "metadata": {},
   "outputs": [],
   "source": []
  }
 ],
 "metadata": {
  "kernelspec": {
   "display_name": "Python 3 (ipykernel)",
   "language": "python",
   "name": "python3"
  },
  "language_info": {
   "codemirror_mode": {
    "name": "ipython",
    "version": 3
   },
   "file_extension": ".py",
   "mimetype": "text/x-python",
   "name": "python",
   "nbconvert_exporter": "python",
   "pygments_lexer": "ipython3",
   "version": "3.12.4"
  }
 },
 "nbformat": 4,
 "nbformat_minor": 5
}
